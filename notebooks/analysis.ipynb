{
 "cells": [
  {
   "cell_type": "code",
   "execution_count": 1,
   "id": "25360fc2",
   "metadata": {},
   "outputs": [],
   "source": [
    "import pandas as pd\n",
    "\n",
    "import sys\n",
    "\n",
    "sys.path.append(r'../src')\n",
    "from src import getGraphic"
   ]
  },
  {
   "cell_type": "code",
   "execution_count": 2,
   "id": "4bed40ac",
   "metadata": {},
   "outputs": [],
   "source": [
    "df = pd.read_csv('../data/clean_data.csv')"
   ]
  },
  {
   "cell_type": "code",
   "execution_count": 3,
   "id": "60f17c14",
   "metadata": {},
   "outputs": [
    {
     "data": {
      "text/plain": [
       "<AxesSubplot:>"
      ]
     },
     "execution_count": 3,
     "metadata": {},
     "output_type": "execute_result"
    },
    {
     "data": {
      "image/png": "[encoded data removed]",
      "text/plain": [
       "<Figure size 720x432 with 1 Axes>"
      ]
     },
     "metadata": {
      "needs_background": "light"
     },
     "output_type": "display_data"
    }
   ],
   "source": [
    "getGraphic(df)"
   ]
  },
  {
   "cell_type": "code",
   "execution_count": 4,
   "id": "811640d8",
   "metadata": {},
   "outputs": [
    {
     "name": "stdout",
     "output_type": "stream",
     "text": [
      "<class 'pandas.core.frame.DataFrame'>\n",
      "RangeIndex: 25723 entries, 0 to 25722\n",
      "Data columns (total 25 columns):\n",
      " #   Column                  Non-Null Count  Dtype  \n",
      "---  ------                  --------------  -----  \n",
      " 0   Unnamed: 0              25723 non-null  int64  \n",
      " 1   case_number             25723 non-null  object \n",
      " 2   date                    25723 non-null  object \n",
      " 3   year                    25723 non-null  int64  \n",
      " 4   type                    25723 non-null  object \n",
      " 5   country                 25723 non-null  object \n",
      " 6   area                    25723 non-null  object \n",
      " 7   location                25723 non-null  object \n",
      " 8   activity                25723 non-null  object \n",
      " 9   name                    25723 non-null  object \n",
      " 10  sex_                    25723 non-null  object \n",
      " 11  age                     25723 non-null  float64\n",
      " 12  injury                  25723 non-null  object \n",
      " 13  fatal_yn                25723 non-null  object \n",
      " 14  time                    25723 non-null  object \n",
      " 15  species_                25723 non-null  object \n",
      " 16  investigator_or_source  25723 non-null  object \n",
      " 17  pdf                     25723 non-null  object \n",
      " 18  href_formula            25723 non-null  object \n",
      " 19  href                    25723 non-null  object \n",
      " 20  case_number_1           25723 non-null  object \n",
      " 21  case_number_2           25723 non-null  object \n",
      " 22  original_order          25723 non-null  float64\n",
      " 23  unnamed_22              25723 non-null  object \n",
      " 24  unnamed_23              25723 non-null  object \n",
      "dtypes: float64(2), int64(2), object(21)\n",
      "memory usage: 4.9+ MB\n"
     ]
    }
   ],
   "source": [
    "df.info()"
   ]
  },
  {
   "cell_type": "code",
   "execution_count": 5,
   "id": "f2b24204",
   "metadata": {},
   "outputs": [
    {
     "data": {
      "text/html": [
       "<div>\n",
       "<style scoped>\n",
       "    .dataframe tbody tr th:only-of-type {\n",
       "        vertical-align: middle;\n",
       "    }\n",
       "\n",
       "    .dataframe tbody tr th {\n",
       "        vertical-align: top;\n",
       "    }\n",
       "\n",
       "    .dataframe thead th {\n",
       "        text-align: right;\n",
       "    }\n",
       "</style>\n",
       "<table border=\"1\" class=\"dataframe\">\n",
       "  <thead>\n",
       "    <tr style=\"text-align: right;\">\n",
       "      <th></th>\n",
       "      <th>Unnamed: 0</th>\n",
       "      <th>year</th>\n",
       "      <th>age</th>\n",
       "      <th>original_order</th>\n",
       "    </tr>\n",
       "  </thead>\n",
       "  <tbody>\n",
       "    <tr>\n",
       "      <th>count</th>\n",
       "      <td>25723.000000</td>\n",
       "      <td>25723.000000</td>\n",
       "      <td>25723.000000</td>\n",
       "      <td>25723.000000</td>\n",
       "    </tr>\n",
       "    <tr>\n",
       "      <th>mean</th>\n",
       "      <td>12861.000000</td>\n",
       "      <td>1927.066711</td>\n",
       "      <td>28.005715</td>\n",
       "      <td>3155.999922</td>\n",
       "    </tr>\n",
       "    <tr>\n",
       "      <th>std</th>\n",
       "      <td>7425.734823</td>\n",
       "      <td>139.113614</td>\n",
       "      <td>4.884420</td>\n",
       "      <td>901.982067</td>\n",
       "    </tr>\n",
       "    <tr>\n",
       "      <th>min</th>\n",
       "      <td>0.000000</td>\n",
       "      <td>0.000000</td>\n",
       "      <td>10.000000</td>\n",
       "      <td>2.000000</td>\n",
       "    </tr>\n",
       "    <tr>\n",
       "      <th>25%</th>\n",
       "      <td>6430.500000</td>\n",
       "      <td>1927.000000</td>\n",
       "      <td>28.000000</td>\n",
       "      <td>3156.000000</td>\n",
       "    </tr>\n",
       "    <tr>\n",
       "      <th>50%</th>\n",
       "      <td>12861.000000</td>\n",
       "      <td>1927.000000</td>\n",
       "      <td>28.000000</td>\n",
       "      <td>3156.000000</td>\n",
       "    </tr>\n",
       "    <tr>\n",
       "      <th>75%</th>\n",
       "      <td>19291.500000</td>\n",
       "      <td>1927.000000</td>\n",
       "      <td>28.000000</td>\n",
       "      <td>3156.000000</td>\n",
       "    </tr>\n",
       "    <tr>\n",
       "      <th>max</th>\n",
       "      <td>25722.000000</td>\n",
       "      <td>2018.000000</td>\n",
       "      <td>87.000000</td>\n",
       "      <td>6310.000000</td>\n",
       "    </tr>\n",
       "  </tbody>\n",
       "</table>\n",
       "</div>"
      ],
      "text/plain": [
       "         Unnamed: 0          year           age  original_order\n",
       "count  25723.000000  25723.000000  25723.000000    25723.000000\n",
       "mean   12861.000000   1927.066711     28.005715     3155.999922\n",
       "std     7425.734823    139.113614      4.884420      901.982067\n",
       "min        0.000000      0.000000     10.000000        2.000000\n",
       "25%     6430.500000   1927.000000     28.000000     3156.000000\n",
       "50%    12861.000000   1927.000000     28.000000     3156.000000\n",
       "75%    19291.500000   1927.000000     28.000000     3156.000000\n",
       "max    25722.000000   2018.000000     87.000000     6310.000000"
      ]
     },
     "execution_count": 5,
     "metadata": {},
     "output_type": "execute_result"
    }
   ],
   "source": [
    "df.describe()"
   ]
  },
  {
   "cell_type": "code",
   "execution_count": 6,
   "id": "db0c027b",
   "metadata": {},
   "outputs": [
    {
     "data": {
      "text/plain": [
       "unidentified specie                                                                           22814\n",
       "general species with measurement                                                               2048\n",
       "white shark                                                                                     222\n",
       "tiger shark                                                                                     105\n",
       "bull shark                                                                                       80\n",
       "                                                                                              ...  \n",
       "zambezi shark (tooth fragments recovered)                                                         1\n",
       "questionable incident; reported as shark attack but thought to involve a pinniped instead         1\n",
       "reported as a shark attack, the story was a hoax                                                  1\n",
       "\"gray shark\"                                                                                      1\n",
       "\"a pack of sharks\"                                                                                1\n",
       "Name: species_, Length: 78, dtype: int64"
      ]
     },
     "execution_count": 6,
     "metadata": {},
     "output_type": "execute_result"
    }
   ],
   "source": [
    "df.species_.value_counts()"
   ]
  },
  {
   "cell_type": "code",
   "execution_count": 7,
   "id": "cfd8ba3f",
   "metadata": {},
   "outputs": [
    {
     "data": {
      "text/plain": [
       "unknown activity near water                      19968\n",
       "FISHING                                           1152\n",
       "SURFING                                           1117\n",
       "SWIMMING                                          1101\n",
       "DIVING                                             527\n",
       "                                                 ...  \n",
       "helping friend land hooked shark                     1\n",
       "splashing in surf                                    1\n",
       "treading water while alongside capsized yacht        1\n",
       "catching sharks under government contract            1\n",
       "wreck of  large double sailing canoe                 1\n",
       "Name: activity, Length: 743, dtype: int64"
      ]
     },
     "execution_count": 7,
     "metadata": {},
     "output_type": "execute_result"
    }
   ],
   "source": [
    "df.activity.value_counts()"
   ]
  },
  {
   "cell_type": "code",
   "execution_count": 8,
   "id": "29730ad1",
   "metadata": {},
   "outputs": [
    {
     "data": {
      "text/plain": [
       "28.0    22484\n",
       "17.0      156\n",
       "18.0      153\n",
       "20.0      151\n",
       "19.0      143\n",
       "        ...  \n",
       "72.0        1\n",
       "87.0        1\n",
       "67.0        1\n",
       "81.0        1\n",
       "82.0        1\n",
       "Name: age, Length: 73, dtype: int64"
      ]
     },
     "execution_count": 8,
     "metadata": {},
     "output_type": "execute_result"
    }
   ],
   "source": [
    "df.age.value_counts()"
   ]
  },
  {
   "cell_type": "code",
   "execution_count": 9,
   "id": "b9c16de9",
   "metadata": {},
   "outputs": [
    {
     "data": {
      "text/plain": [
       "no details                                                                                                           19492\n",
       "FATAL                                                                                                                 1362\n",
       "BITTEN                                                                                                                1249\n",
       "NO INJURY                                                                                                              802\n",
       "LACERATION                                                                                                             759\n",
       "                                                                                                                     ...  \n",
       "reported by media as shark attack but forensic evidence indicated the kayaker died prior to any shark involvement        1\n",
       "board rammed by shark, skegs knocked loose & 5' strip of fiberglass torn off, thigh scratched by sharks teeth           1\n",
       "doubtful incident, needs investigation                                                                                   1\n",
       "5-inch gash on left leg                                                                                                  1\n",
       "\"lost leg\"                                                                                                               1\n",
       "Name: injury, Length: 347, dtype: int64"
      ]
     },
     "execution_count": 9,
     "metadata": {},
     "output_type": "execute_result"
    }
   ],
   "source": [
    "df.injury.value_counts()"
   ]
  },
  {
   "cell_type": "code",
   "execution_count": 10,
   "id": "82d57719",
   "metadata": {},
   "outputs": [
    {
     "data": {
      "text/plain": [
       "1927    19442\n",
       "2015      143\n",
       "2017      136\n",
       "2016      130\n",
       "2011      128\n",
       "        ...  \n",
       "1786        1\n",
       "1785        1\n",
       "1784        1\n",
       "1783        1\n",
       "1841        1\n",
       "Name: year, Length: 249, dtype: int64"
      ]
     },
     "execution_count": 10,
     "metadata": {},
     "output_type": "execute_result"
    }
   ],
   "source": [
    "df.year.value_counts()"
   ]
  },
  {
   "cell_type": "code",
   "execution_count": 11,
   "id": "c68dabd4",
   "metadata": {},
   "outputs": [
    {
     "data": {
      "text/plain": [
       "unknown           23068\n",
       "Afternoon           968\n",
       "Morning             899\n",
       "Evening             447\n",
       "Early morning       223\n",
       "Night                91\n",
       "After midnight       27\n",
       "Name: time, dtype: int64"
      ]
     },
     "execution_count": 11,
     "metadata": {},
     "output_type": "execute_result"
    }
   ],
   "source": [
    "df.time.value_counts()"
   ]
  },
  {
   "cell_type": "code",
   "execution_count": 12,
   "id": "431867fe",
   "metadata": {},
   "outputs": [
    {
     "data": {
      "text/plain": [
       "unknown                  19471\n",
       "USA                       2229\n",
       "AUSTRALIA                 1338\n",
       "SOUTH AFRICA               579\n",
       "PAPUA NEW GUINEA           134\n",
       "                         ...  \n",
       "THE BALKANS                  1\n",
       "NORTH ATLANTIC OCEAN         1\n",
       "MAYOTTE                      1\n",
       "GABON                        1\n",
       "CEYLON (SRI LANKA)           1\n",
       "Name: country, Length: 213, dtype: int64"
      ]
     },
     "execution_count": 12,
     "metadata": {},
     "output_type": "execute_result"
    }
   ],
   "source": [
    "df.country.value_counts()"
   ]
  },
  {
   "cell_type": "code",
   "execution_count": 13,
   "id": "8d9dd583",
   "metadata": {},
   "outputs": [
    {
     "data": {
      "text/plain": [
       "unknown    19990\n",
       "M           5096\n",
       "F            637\n",
       "Name: sex_, dtype: int64"
      ]
     },
     "execution_count": 13,
     "metadata": {},
     "output_type": "execute_result"
    }
   ],
   "source": [
    "df.sex_.value_counts()"
   ]
  }
 ],
 "metadata": {
  "kernelspec": {
   "display_name": "Python 3 (ipykernel)",
   "language": "python",
   "name": "python3"
  },
  "language_info": {
   "codemirror_mode": {
    "name": "ipython",
    "version": 3
   },
   "file_extension": ".py",
   "mimetype": "text/x-python",
   "name": "python",
   "nbconvert_exporter": "python",
   "pygments_lexer": "ipython3",
   "version": "3.9.7"
  }
 },
 "nbformat": 4,
 "nbformat_minor": 5
}
