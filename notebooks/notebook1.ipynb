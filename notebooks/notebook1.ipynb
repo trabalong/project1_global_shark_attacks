{
 "cells": [
  {
   "cell_type": "code",
   "execution_count": null,
   "id": "b7f0810a",
   "metadata": {},
   "outputs": [],
   "source": [
    "import pandas as pd\n",
    "\n",
    "import pylab as plt\n",
    "\n",
    "import seaborn as sns\n",
    "\n",
    "import sys\n",
    "\n",
    "import re\n",
    "\n",
    "import warnings\n",
    "warnings.simplefilter('ignore')\n",
    "\n",
    "sys.path.append(r'C:\\Users\\Gaspar\\Desktop\\project1_global_shark_attacks\\src')\n",
    "\n",
    "from src import getGraphic"
   ]
  },
  {
   "cell_type": "code",
   "execution_count": null,
   "id": "3c5b9200",
   "metadata": {},
   "outputs": [],
   "source": [
    "df_original = pd.read_csv('../data/attacks.csv', encoding = 'latin1')\n",
    "\n",
    "df = df_original.copy()\n",
    "\n",
    "pd.set_option('max_columns', None)\n",
    "\n",
    "#Let's rename columns names for avoid spaces, uppercases, points, etc.\n",
    "\n",
    "df.columns=[c.lower().replace(' ', '_').replace(':','').replace('.','_') for c in df.columns]"
   ]
  },
  {
   "cell_type": "code",
   "execution_count": null,
   "id": "d7008b0f",
   "metadata": {},
   "outputs": [],
   "source": [
    "df.info()"
   ]
  },
  {
   "cell_type": "code",
   "execution_count": null,
   "id": "6dad23b7",
   "metadata": {
    "scrolled": true
   },
   "outputs": [],
   "source": [
    "df.head()"
   ]
  },
  {
   "cell_type": "code",
   "execution_count": null,
   "id": "71d5512a",
   "metadata": {},
   "outputs": [],
   "source": [
    "getGraphic(df)"
   ]
  },
  {
   "cell_type": "code",
   "execution_count": null,
   "id": "505d0ee1",
   "metadata": {},
   "outputs": [],
   "source": [
    "subset_util = list(df.columns)[1:-3]\n",
    "\n",
    "getGraphic(df[subset_util]);"
   ]
  },
  {
   "cell_type": "code",
   "execution_count": null,
   "id": "e2fb5c08",
   "metadata": {},
   "outputs": [],
   "source": [
    "#Estos son las filas con todos los valores nulos\n",
    "\n",
    "df[subset_util].isnull().all(1).sum()"
   ]
  },
  {
   "cell_type": "code",
   "execution_count": null,
   "id": "2f5b86aa",
   "metadata": {},
   "outputs": [],
   "source": [
    "#Hemos eliminado y guardado las filas nulas para trabajar con el resto\n",
    "\n",
    "df_rowsnull = df[df[subset_util].isnull().all(1)]\n",
    "\n",
    "index_rowsnull = list(df_rowsnull.index)\n",
    "\n",
    "df.drop(index_rowsnull, axis = 0, inplace = True)"
   ]
  },
  {
   "cell_type": "code",
   "execution_count": null,
   "id": "005a5eae",
   "metadata": {},
   "outputs": [],
   "source": [
    "df_rowsnull.info()"
   ]
  },
  {
   "cell_type": "code",
   "execution_count": null,
   "id": "6da41b85",
   "metadata": {},
   "outputs": [],
   "source": [
    "getGraphic(df)"
   ]
  },
  {
   "cell_type": "code",
   "execution_count": null,
   "id": "31742712",
   "metadata": {},
   "outputs": [],
   "source": [
    "# Country will be unknown if null\n",
    "\n",
    "df['country'].fillna('unknown', inplace = True)\n",
    "\n",
    "getGraphic(df)"
   ]
  },
  {
   "cell_type": "code",
   "execution_count": null,
   "id": "600c54c5",
   "metadata": {},
   "outputs": [],
   "source": [
    "if df['country'].item == 'unknown': df['area'][df['area'].isnull()] = 'unknown'\n",
    "    \n",
    "else: df['area'][df['area'].isnull()] = 'Some area from ' + df['country']\n",
    "\n",
    "getGraphic(df)"
   ]
  },
  {
   "cell_type": "code",
   "execution_count": null,
   "id": "6d6b0366",
   "metadata": {},
   "outputs": [],
   "source": [
    "if df['area'].item != 'unknown': df['location'][df['location'].isnull()] = 'Some location from ' + df['area']\n",
    "    \n",
    "else: df['location'][df['location'].isnull()] = 'unknown'\n",
    "\n",
    "getGraphic(df)"
   ]
  },
  {
   "cell_type": "code",
   "execution_count": null,
   "id": "b2aad857",
   "metadata": {},
   "outputs": [],
   "source": [
    "df['activity'].fillna('Any activity near water', inplace = True)\n",
    "    \n",
    "getGraphic(df)"
   ]
  },
  {
   "cell_type": "code",
   "execution_count": null,
   "id": "c9babb99",
   "metadata": {},
   "outputs": [],
   "source": [
    "if df['sex_'].item == 'M': df['name'][df['name'].isnull()] = 'male'\n",
    "    \n",
    "elif df['sex_'].item == 'F': df['name'][df['name'].isnull()] = 'female'\n",
    "    \n",
    "else: df['name'][df['name'].isnull()] = 'unknown'\n",
    "    \n",
    "getGraphic(df)"
   ]
  },
  {
   "cell_type": "code",
   "execution_count": null,
   "id": "f7a5a859",
   "metadata": {},
   "outputs": [],
   "source": [
    "if df['name'].item == 'male': df['sex_'][df['sex_'].isnull()] = 'M'\n",
    "    \n",
    "elif df['name'].item == 'female': df['sex_'][df['sex_'].isnull()] = 'F'\n",
    "    \n",
    "else: df['sex_'][df['sex_'].isnull()] = 'unknown'\n",
    "\n",
    "df['sex_']= df['sex_'].str.replace(' ','').str.replace('N','unknown').str.replace('lli','unknown').str.replace('.','unknown')\n",
    "\n",
    "getGraphic(df)"
   ]
  },
  {
   "cell_type": "code",
   "execution_count": null,
   "id": "f12deb30",
   "metadata": {},
   "outputs": [],
   "source": [
    "df['age'] = df.age.str.extract(r'(\\d\\d)')\n",
    "\n",
    "df['age'] = df['age'].astype(float)\n",
    "\n",
    "mean_age = df['age'].mean()\n",
    "\n",
    "df['age'].fillna(mean_age, inplace = True)\n",
    "\n",
    "getGraphic(df)"
   ]
  },
  {
   "cell_type": "code",
   "execution_count": null,
   "id": "dddc294f",
   "metadata": {},
   "outputs": [],
   "source": []
  }
 ],
 "metadata": {
  "kernelspec": {
   "display_name": "Python 3 (ipykernel)",
   "language": "python",
   "name": "python3"
  },
  "language_info": {
   "codemirror_mode": {
    "name": "ipython",
    "version": 3
   },
   "file_extension": ".py",
   "mimetype": "text/x-python",
   "name": "python",
   "nbconvert_exporter": "python",
   "pygments_lexer": "ipython3",
   "version": "3.9.7"
  }
 },
 "nbformat": 4,
 "nbformat_minor": 5
}
